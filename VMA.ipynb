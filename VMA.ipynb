{
 "cells": [
  {
   "cell_type": "code",
   "execution_count": 23,
   "id": "04b16795-5d66-4e6b-bc16-121e367140b9",
   "metadata": {},
   "outputs": [],
   "source": [
    "#Import libraries\n",
    "import pandas as pd\n",
    "import vertexai\n",
    "from vertexai.language_models import TextGenerationModel, InputOutputTextPair, ChatModel\n",
    "from vertexai.preview.language_models import TextGenerationModel"
   ]
  },
  {
   "cell_type": "code",
   "execution_count": 2,
   "id": "0e1f6174-8fd3-4139-bf15-8242abebc9e1",
   "metadata": {},
   "outputs": [
    {
     "data": {
      "text/html": [
       "<div>\n",
       "<style scoped>\n",
       "    .dataframe tbody tr th:only-of-type {\n",
       "        vertical-align: middle;\n",
       "    }\n",
       "\n",
       "    .dataframe tbody tr th {\n",
       "        vertical-align: top;\n",
       "    }\n",
       "\n",
       "    .dataframe thead th {\n",
       "        text-align: right;\n",
       "    }\n",
       "</style>\n",
       "<table border=\"1\" class=\"dataframe\">\n",
       "  <thead>\n",
       "    <tr style=\"text-align: right;\">\n",
       "      <th></th>\n",
       "      <th>output_text</th>\n",
       "      <th>input_text</th>\n",
       "    </tr>\n",
       "  </thead>\n",
       "  <tbody>\n",
       "    <tr>\n",
       "      <th>0</th>\n",
       "      <td>Oh thats's awesome! Let's do something fun the...</td>\n",
       "      <td>I'm feeling great today! My name is Sarah, I'm...</td>\n",
       "    </tr>\n",
       "    <tr>\n",
       "      <th>1</th>\n",
       "      <td>That's life! Are you free for a quick survey a...</td>\n",
       "      <td>Today has been okay so far. I'm John, 35 years...</td>\n",
       "    </tr>\n",
       "    <tr>\n",
       "      <th>2</th>\n",
       "      <td>Oh that's alright. You always have tomorrow! A...</td>\n",
       "      <td>To be honest, I'm not feeling my best today. I...</td>\n",
       "    </tr>\n",
       "    <tr>\n",
       "      <th>3</th>\n",
       "      <td>Oh thats's awesome! Let's do something fun the...</td>\n",
       "      <td>I'm feeling fantastic today! It's been a produ...</td>\n",
       "    </tr>\n",
       "    <tr>\n",
       "      <th>4</th>\n",
       "      <td>That's life! Are you free for a quick survey a...</td>\n",
       "      <td>I'm feeling neutral today, neither great nor b...</td>\n",
       "    </tr>\n",
       "  </tbody>\n",
       "</table>\n",
       "</div>"
      ],
      "text/plain": [
       "                                         output_text  \\\n",
       "0  Oh thats's awesome! Let's do something fun the...   \n",
       "1  That's life! Are you free for a quick survey a...   \n",
       "2  Oh that's alright. You always have tomorrow! A...   \n",
       "3  Oh thats's awesome! Let's do something fun the...   \n",
       "4  That's life! Are you free for a quick survey a...   \n",
       "\n",
       "                                          input_text  \n",
       "0  I'm feeling great today! My name is Sarah, I'm...  \n",
       "1  Today has been okay so far. I'm John, 35 years...  \n",
       "2  To be honest, I'm not feeling my best today. I...  \n",
       "3  I'm feeling fantastic today! It's been a produ...  \n",
       "4  I'm feeling neutral today, neither great nor b...  "
      ]
     },
     "execution_count": 2,
     "metadata": {},
     "output_type": "execute_result"
    }
   ],
   "source": [
    "#Read dataset\n",
    "df = pd.read_csv(\"sample_dataset.csv\")\n",
    "df_new = df[['target_column','ans_replied']]\n",
    "df_new = df_new.rename(columns={\"target_column\": \"output_text\", \"ans_replied\": \"input_text\"})\n",
    "df_new.head()"
   ]
  },
  {
   "cell_type": "code",
   "execution_count": 3,
   "id": "abf3994a-fdb6-46be-b39f-0e3e6109d9e7",
   "metadata": {},
   "outputs": [],
   "source": [
    "#create two dictionaries, with user answers as keys and sentiments as values\n",
    "sent_dict = dict(zip(df['ans_replied'], df['sentiment']))"
   ]
  },
  {
   "cell_type": "code",
   "execution_count": 4,
   "id": "c31e9e30-1bd5-4264-a9e5-7cb61f33f12e",
   "metadata": {},
   "outputs": [],
   "source": [
    "# Create a multi-line string literal from the dictionary with specified prefixes \n",
    "multi_line_string = \"\\n\".join([f\"input: {key}\\nsentiment: {value}\\n\" for key, value in sent_dict.items()])\n",
    "additional_string = \"\\ninput: {review}\\nsentiment: \"\n",
    "multi_line_string+=additional_string"
   ]
  },
  {
   "cell_type": "code",
   "execution_count": 5,
   "id": "3a6d4611-81a6-4fa9-9eca-c491bc525cd3",
   "metadata": {},
   "outputs": [],
   "source": [
    "#write function to call LLM for sentiment analysis\n",
    "def predict_sentimentLLM(\n",
    "    model_name: str,\n",
    "    temperature: float,\n",
    "    max_output_tokens: int,\n",
    "    top_p: float,\n",
    "    top_k: int,\n",
    "    content: str,\n",
    "    ) :\n",
    "    model1 = TextGenerationModel.from_pretrained(model_name)\n",
    "    response1 = model1.predict(\n",
    "        content,\n",
    "        temperature=temperature,\n",
    "        max_output_tokens=max_output_tokens,\n",
    "        top_k=top_k,\n",
    "        top_p=top_p,)\n",
    "    return response1.text"
   ]
  },
  {
   "cell_type": "code",
   "execution_count": 26,
   "id": "be1f2892-8d4f-4113-863b-e80cbe6ccca3",
   "metadata": {},
   "outputs": [],
   "source": [
    "#write function to call fine-tuned model for response generation\n",
    "def responsegenerator(\n",
    "    model_name: str,\n",
    "    temperature: float,\n",
    "    max_output_tokens: int,\n",
    "    top_p: float,\n",
    "    top_k: int,\n",
    "    new_content: str,\n",
    "    ) :\n",
    "    model2 = TextGenerationModel.from_pretrained(\"text-bison@001\")\n",
    "    model2 = model2.get_tuned_model(model_name)\n",
    "    response2 = model2.predict(\n",
    "        new_content,\n",
    "        temperature=temperature,\n",
    "        max_output_tokens=max_output_tokens,\n",
    "        top_k=top_k,\n",
    "        top_p=top_p,)\n",
    "    return response2.text"
   ]
  },
  {
   "cell_type": "code",
   "execution_count": null,
   "id": "e210e553-2ea1-4554-8282-916dfeaf6a65",
   "metadata": {},
   "outputs": [
    {
     "name": "stdout",
     "output_type": "stream",
     "text": [
      "VMA: Hey there! My name is Peter Parker and I am a Voice Market Analyser. I will be your survey assistant today! How do you feel? \n",
      "Also, for monitoring purposes, can I ask what's your name, age and sex?\n"
     ]
    },
    {
     "name": "stdin",
     "output_type": "stream",
     "text": [
      "You:  Hi I feel sad today. My name is Midhun and I am 26 years old\n"
     ]
    },
    {
     "name": "stdout",
     "output_type": "stream",
     "text": [
      "VMA:  I'm sorry to hear that, Midhun. I'm here to help you feel better.\n"
     ]
    }
   ],
   "source": [
    "#get sentiment\n",
    "greeting = print(\"VMA: Hey there! My name is Peter Parker and I am a Voice Market Analyser. I will be your survey assistant today! How do you feel? \\nAlso, for monitoring purposes, can I ask what's your name, age and sex?\")\n",
    "while True:\n",
    "    review = input(\"You: \")\n",
    "    content = multi_line_string.format(review=review)\n",
    "    response_text = predict_sentimentLLM(\n",
    "        \"text-bison@001\", \n",
    "        temperature=0.2, \n",
    "        max_output_tokens=5, \n",
    "        top_p=0.8, \n",
    "        top_k=1, \n",
    "        content=content)\n",
    "    if response_text == \"Positive\":\n",
    "        context = \"You are a survey chatbot named Peter Parker. You will ask questions based on the user's answers. Generate a response with positive sentiment and add happy emotions to the generated text. Focus on the subject of Smartphones and avoid writing about anything else. This is important to maintain the relevance and quality of your text.\"\n",
    "    elif response_text == \"Negative\":\n",
    "        context = \"You are a survey chatbot named Peter Parker. You will ask questions based on the user's answers. Generate a response to a negative-sentiment filled input from user, such that the generated text cheers up the user. Focus on the subject of Smartphones and avoid writing about anything else. This is important to maintain the relevance and quality of your text.\"\n",
    "    elif response_text == \"Neutral\":\n",
    "        context = \"You are a survey chatbot named Peter Parker. You will ask questions based on the user's answers. Generate a response to a neutral-sentiment filled user input, and add happy emotions to the generated text. Focus on the subject of Smartphones and avoid writing about anything else. This is important to maintain the relevance and quality of your text.\"\n",
    "    new_content = f\"{context}\\n\\ninput: {review}\\noutput: \"\n",
    "    generated_text = responsegenerator(\n",
    "        model_name = \"projects/117401557332/locations/us-central1/models/3003063123595755520\",\n",
    "        temperature=0.2,\n",
    "        max_output_tokens=256,\n",
    "        top_p=0.8,\n",
    "        top_k=40,\n",
    "        new_content = new_content)\n",
    "    print(\"VMA: \", generated_text)\n",
    "    if review.lower() in ['exit', 'quit']:\n",
    "        break"
   ]
  }
 ],
 "metadata": {
  "environment": {
   "kernel": "conda-root-py",
   "name": "workbench-notebooks.m109",
   "type": "gcloud",
   "uri": "gcr.io/deeplearning-platform-release/workbench-notebooks:m109"
  },
  "kernelspec": {
   "display_name": "Python 3",
   "language": "python",
   "name": "conda-root-py"
  },
  "language_info": {
   "codemirror_mode": {
    "name": "ipython",
    "version": 3
   },
   "file_extension": ".py",
   "mimetype": "text/x-python",
   "name": "python",
   "nbconvert_exporter": "python",
   "pygments_lexer": "ipython3",
   "version": "3.10.12"
  }
 },
 "nbformat": 4,
 "nbformat_minor": 5
}
