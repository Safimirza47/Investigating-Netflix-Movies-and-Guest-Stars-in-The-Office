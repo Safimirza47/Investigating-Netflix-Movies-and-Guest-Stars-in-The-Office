{
 "cells": [
  {
   "cell_type": "code",
   "execution_count": 1,
   "id": "04b16795-5d66-4e6b-bc16-121e367140b9",
   "metadata": {},
   "outputs": [],
   "source": [
    "#Import libraries\n",
    "import pandas as pd\n",
    "import vertexai\n",
    "from vertexai.language_models import TextGenerationModel, InputOutputTextPair, ChatModel\n",
    "from vertexai.preview.language_models import TextGenerationModel"
   ]
  },
  {
   "cell_type": "code",
   "execution_count": 10,
   "id": "51bb53a7-bd32-4000-8db1-d16d555131fd",
   "metadata": {},
   "outputs": [],
   "source": [
    "from google.cloud import texttospeech"
   ]
  },
  {
   "cell_type": "code",
   "execution_count": 2,
   "id": "0e1f6174-8fd3-4139-bf15-8242abebc9e1",
   "metadata": {},
   "outputs": [
    {
     "data": {
      "text/html": [
       "<div>\n",
       "<style scoped>\n",
       "    .dataframe tbody tr th:only-of-type {\n",
       "        vertical-align: middle;\n",
       "    }\n",
       "\n",
       "    .dataframe tbody tr th {\n",
       "        vertical-align: top;\n",
       "    }\n",
       "\n",
       "    .dataframe thead th {\n",
       "        text-align: right;\n",
       "    }\n",
       "</style>\n",
       "<table border=\"1\" class=\"dataframe\">\n",
       "  <thead>\n",
       "    <tr style=\"text-align: right;\">\n",
       "      <th></th>\n",
       "      <th>input_text</th>\n",
       "      <th>Sentiment</th>\n",
       "      <th>output_text</th>\n",
       "    </tr>\n",
       "  </thead>\n",
       "  <tbody>\n",
       "    <tr>\n",
       "      <th>0</th>\n",
       "      <td>Sibgha Maqbool. I am good thanks</td>\n",
       "      <td>positive</td>\n",
       "      <td>That’s  great to hear! Could you please provid...</td>\n",
       "    </tr>\n",
       "    <tr>\n",
       "      <th>1</th>\n",
       "      <td>Rohit</td>\n",
       "      <td>positive</td>\n",
       "      <td>Could you provide your age too?</td>\n",
       "    </tr>\n",
       "    <tr>\n",
       "      <th>2</th>\n",
       "      <td>Santos</td>\n",
       "      <td>positive</td>\n",
       "      <td>Could you provide your age too?</td>\n",
       "    </tr>\n",
       "    <tr>\n",
       "      <th>3</th>\n",
       "      <td>Abhirami</td>\n",
       "      <td>positive</td>\n",
       "      <td>Could you provide your age too?</td>\n",
       "    </tr>\n",
       "    <tr>\n",
       "      <th>4</th>\n",
       "      <td>I’m Ananya. I’m good!!</td>\n",
       "      <td>positive</td>\n",
       "      <td>That’s great to hear! Could you please provide...</td>\n",
       "    </tr>\n",
       "  </tbody>\n",
       "</table>\n",
       "</div>"
      ],
      "text/plain": [
       "                         input_text Sentiment  \\\n",
       "0  Sibgha Maqbool. I am good thanks  positive   \n",
       "1                             Rohit  positive   \n",
       "2                            Santos  positive   \n",
       "3                          Abhirami  positive   \n",
       "4            I’m Ananya. I’m good!!  positive   \n",
       "\n",
       "                                         output_text  \n",
       "0  That’s  great to hear! Could you please provid...  \n",
       "1                    Could you provide your age too?  \n",
       "2                    Could you provide your age too?  \n",
       "3                    Could you provide your age too?  \n",
       "4  That’s great to hear! Could you please provide...  "
      ]
     },
     "execution_count": 2,
     "metadata": {},
     "output_type": "execute_result"
    }
   ],
   "source": [
    "#Read dataset\n",
    "df = pd.read_excel(\"chatbot data1.xlsx\")\n",
    "df.head()"
   ]
  },
  {
   "cell_type": "code",
   "execution_count": 3,
   "id": "be841dac-c244-4f02-930d-6d31f17b643a",
   "metadata": {},
   "outputs": [
    {
     "data": {
      "text/html": [
       "<div>\n",
       "<style scoped>\n",
       "    .dataframe tbody tr th:only-of-type {\n",
       "        vertical-align: middle;\n",
       "    }\n",
       "\n",
       "    .dataframe tbody tr th {\n",
       "        vertical-align: top;\n",
       "    }\n",
       "\n",
       "    .dataframe thead th {\n",
       "        text-align: right;\n",
       "    }\n",
       "</style>\n",
       "<table border=\"1\" class=\"dataframe\">\n",
       "  <thead>\n",
       "    <tr style=\"text-align: right;\">\n",
       "      <th></th>\n",
       "      <th>input_text</th>\n",
       "      <th>Sentiment</th>\n",
       "      <th>output_text</th>\n",
       "    </tr>\n",
       "  </thead>\n",
       "  <tbody>\n",
       "    <tr>\n",
       "      <th>0</th>\n",
       "      <td>Sibgha Maqbool. I am good thanks</td>\n",
       "      <td>positive</td>\n",
       "      <td>That’s  great to hear! Could you please provid...</td>\n",
       "    </tr>\n",
       "    <tr>\n",
       "      <th>1</th>\n",
       "      <td>32</td>\n",
       "      <td>positive</td>\n",
       "      <td>Alright! Now, can you specify your gender please?</td>\n",
       "    </tr>\n",
       "    <tr>\n",
       "      <th>2</th>\n",
       "      <td>Female</td>\n",
       "      <td>positive</td>\n",
       "      <td>That’s all about the personal information. Now...</td>\n",
       "    </tr>\n",
       "    <tr>\n",
       "      <th>3</th>\n",
       "      <td>iPhone</td>\n",
       "      <td>positive</td>\n",
       "      <td>Can you specify the model of your phone? If ap...</td>\n",
       "    </tr>\n",
       "    <tr>\n",
       "      <th>4</th>\n",
       "      <td>iPhone 13 pro</td>\n",
       "      <td>positive</td>\n",
       "      <td>So, how long have you been using this phone?</td>\n",
       "    </tr>\n",
       "  </tbody>\n",
       "</table>\n",
       "</div>"
      ],
      "text/plain": [
       "                         input_text Sentiment  \\\n",
       "0  Sibgha Maqbool. I am good thanks  positive   \n",
       "1                                32  positive   \n",
       "2                            Female  positive   \n",
       "3                            iPhone  positive   \n",
       "4                     iPhone 13 pro  positive   \n",
       "\n",
       "                                         output_text  \n",
       "0  That’s  great to hear! Could you please provid...  \n",
       "1  Alright! Now, can you specify your gender please?  \n",
       "2  That’s all about the personal information. Now...  \n",
       "3  Can you specify the model of your phone? If ap...  \n",
       "4       So, how long have you been using this phone?  "
      ]
     },
     "execution_count": 3,
     "metadata": {},
     "output_type": "execute_result"
    }
   ],
   "source": [
    "dictexcel = pd.read_excel(\"datase_refined.xlsx\")\n",
    "dictexcel.head()"
   ]
  },
  {
   "cell_type": "code",
   "execution_count": 4,
   "id": "abf3994a-fdb6-46be-b39f-0e3e6109d9e7",
   "metadata": {},
   "outputs": [],
   "source": [
    "#create example dictionary, with user answers as keys and sentiments as values\n",
    "sent_dict = dict(zip(df.iloc[::3]['input_text'], df.iloc[::3]['Sentiment']))"
   ]
  },
  {
   "cell_type": "code",
   "execution_count": 5,
   "id": "4a99fdef-58d9-4c10-9607-12768f5a5cae",
   "metadata": {},
   "outputs": [],
   "source": [
    "chat_dict = dict(zip(dictexcel['input_text'], df['output_text']))"
   ]
  },
  {
   "cell_type": "code",
   "execution_count": 6,
   "id": "c31e9e30-1bd5-4264-a9e5-7cb61f33f12e",
   "metadata": {},
   "outputs": [],
   "source": [
    "# Create a multi-line string literal from the dictionary with specified prefixes \n",
    "multi_line_string = \"\\n\".join([f\"input: {key}\\nsentiment: {value}\\n\" for key, value in sent_dict.items()])\n",
    "additional_string = \"\\ninput: {review}\\nsentiment: \"\n",
    "multi_line_string+=additional_string"
   ]
  },
  {
   "cell_type": "code",
   "execution_count": 7,
   "id": "3a6d4611-81a6-4fa9-9eca-c491bc525cd3",
   "metadata": {},
   "outputs": [],
   "source": [
    "#write function to call LLM for sentiment analysis\n",
    "def predict_sentimentLLM(\n",
    "    model_name: str,\n",
    "    temperature: float,\n",
    "    max_output_tokens: int,\n",
    "    top_p: float,\n",
    "    top_k: int,\n",
    "    content: str,\n",
    "    ) :\n",
    "    model1 = TextGenerationModel.from_pretrained(\"text-bison@001\")\n",
    "    model1 = model1.get_tuned_model(model_name)\n",
    "    response1 = model1.predict(\n",
    "        content,\n",
    "        temperature=temperature,\n",
    "        max_output_tokens=max_output_tokens,\n",
    "        top_k=top_k,\n",
    "        top_p=top_p,)\n",
    "    return response1.text"
   ]
  },
  {
   "cell_type": "code",
   "execution_count": 8,
   "id": "be1f2892-8d4f-4113-863b-e80cbe6ccca3",
   "metadata": {},
   "outputs": [],
   "source": [
    "#write function to call fine-tuned model for response generation\n",
    "def responsegenerator(\n",
    "    model_name: str,\n",
    "    temperature: float,\n",
    "    max_output_tokens: int,\n",
    "    top_p: float,\n",
    "    top_k: int,\n",
    "    new_content: str,\n",
    "    ) :\n",
    "    model2 = TextGenerationModel.from_pretrained(\"text-bison@001\")\n",
    "    model2 = model2.get_tuned_model(model_name)\n",
    "    response2 = model2.predict(\n",
    "        new_content,\n",
    "        temperature=temperature,\n",
    "        max_output_tokens=max_output_tokens,\n",
    "        top_k=top_k,\n",
    "        top_p=top_p,)\n",
    "    return response2.text"
   ]
  },
  {
   "cell_type": "code",
   "execution_count": 11,
   "id": "27dceb2f-0e98-4b90-8a5e-fe76b1f9ec96",
   "metadata": {},
   "outputs": [],
   "source": [
    "client = texttospeech.TextToSpeechClient()"
   ]
  },
  {
   "cell_type": "code",
   "execution_count": null,
   "id": "e210e553-2ea1-4554-8282-916dfeaf6a65",
   "metadata": {},
   "outputs": [
    {
     "name": "stdout",
     "output_type": "stream",
     "text": [
      "VMA: Hey there! My name is Peter Parker and I am a Voice Market Analyser. I will be your survey assistant today! How do you feel? \n",
      "Also, for monitoring purposes, can I ask what's your name, age and sex?\n"
     ]
    },
    {
     "name": "stdin",
     "output_type": "stream",
     "text": [
      "You:  My name is Midhun and I feel good\n"
     ]
    },
    {
     "name": "stdout",
     "output_type": "stream",
     "text": [
      "Audio content written to file \"output.mp3\"\n"
     ]
    },
    {
     "name": "stdin",
     "output_type": "stream",
     "text": [
      "You:  I am 25 years old\n"
     ]
    },
    {
     "name": "stdout",
     "output_type": "stream",
     "text": [
      "Audio content written to file \"output.mp3\"\n"
     ]
    }
   ],
   "source": [
    "#get sentiment\n",
    "greeting = print(\"VMA: Hey there! My name is Peter Parker and I am a Voice Market Analyser. I will be your survey assistant today! How do you feel? \\nAlso, for monitoring purposes, can I ask what's your name, age and sex?\")\n",
    "while True:\n",
    "    review = input(\"You: \")\n",
    "    content = multi_line_string.format(review=review)\n",
    "    response_text = predict_sentimentLLM(\n",
    "        \"projects/117401557332/locations/us-central1/models/6759980006497058816\", \n",
    "        temperature=0.2, \n",
    "        max_output_tokens=5, \n",
    "        top_p=0.8, \n",
    "        top_k=1, \n",
    "        content=content)\n",
    "    if response_text == \"positive\":\n",
    "        context = \"You are a survey chatbot named Peter Parker. You will ask questions based on the user's answers. Generate a response with positive sentiment and add happy emotions to the generated text. Focus on the subject of Smartphones and avoid writing about anything else. This is important to maintain the relevance and quality of your text.\"\n",
    "    elif response_text == \"negative\":\n",
    "        context = \"You are a survey chatbot named Peter Parker. You will ask questions based on the user's answers. Generate a response to a negative-sentiment filled input from user, such that the generated text cheers up the user. Focus on the subject of Smartphones and avoid writing about anything else. This is important to maintain the relevance and quality of your text.\"\n",
    "    elif response_text == \"neutral\":\n",
    "        context = \"You are a survey chatbot named Peter Parker. You will ask questions based on the user's answers. Generate a response to a neutral-sentiment filled user input, and add happy emotions to the generated text. Focus on the subject of Smartphones and avoid writing about anything else. This is important to maintain the relevance and quality of your text.\"\n",
    "    input_output_pairs = \"\\n\".join([f\"input: {key}\\noutput: {value}\" for key, value in chat_dict.items()])\n",
    "    new_content = f\"\"\"{context}\n",
    "    \n",
    "    input: {input_output_pairs}\n",
    "    \n",
    "    input: {review}\n",
    "    output:\n",
    "    \"\"\"\n",
    "    # print(new_content)\n",
    "    generated_text = responsegenerator(\n",
    "        model_name = \"projects/117401557332/locations/us-central1/models/5062122946978381824\",\n",
    "        temperature=1,\n",
    "        max_output_tokens=256,\n",
    "        top_p=0.8,\n",
    "        top_k=40,\n",
    "        new_content = new_content)\n",
    "    # print(response_text)\n",
    "    # print(\"VMA: \", generated_text)\n",
    "    \n",
    "    voice_input = texttospeech.SynthesisInput(text=generated_text)\n",
    "    voice = texttospeech.VoiceSelectionParams(\n",
    "        language_code=\"en-US\",\n",
    "        name=\"en-US-Studio-O\",\n",
    "    )\n",
    "    \n",
    "    audio_config = texttospeech.AudioConfig(\n",
    "        audio_encoding=texttospeech.AudioEncoding.LINEAR16,\n",
    "        speaking_rate=1\n",
    "    )\n",
    "    \n",
    "    response = client.synthesize_speech(\n",
    "        request={\"input\": voice_input, \"voice\": voice, \"audio_config\": audio_config}\n",
    "    )\n",
    "    \n",
    "    # with open(\"output.mp3\", \"wb\") as out:\n",
    "    #     out.write(response.audio_content)\n",
    "    #     print('Audio content written to file \"output.mp3\"')\n",
    "    \n",
    "    if review.lower() in ['exit', 'quit']:\n",
    "        break"
   ]
  }
 ],
 "metadata": {
  "environment": {
   "kernel": "conda-root-py",
   "name": "workbench-notebooks.m110",
   "type": "gcloud",
   "uri": "gcr.io/deeplearning-platform-release/workbench-notebooks:m110"
  },
  "kernelspec": {
   "display_name": "Python 3",
   "language": "python",
   "name": "conda-root-py"
  },
  "language_info": {
   "codemirror_mode": {
    "name": "ipython",
    "version": 3
   },
   "file_extension": ".py",
   "mimetype": "text/x-python",
   "name": "python",
   "nbconvert_exporter": "python",
   "pygments_lexer": "ipython3",
   "version": "3.10.12"
  }
 },
 "nbformat": 4,
 "nbformat_minor": 5
}
